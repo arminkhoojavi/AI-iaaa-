{
 "cells": [
  {
   "cell_type": "code",
   "execution_count": 1,
   "id": "e7a212a6",
   "metadata": {
    "execution": {
     "iopub.execute_input": "2024-03-24T14:55:44.152978Z",
     "iopub.status.busy": "2024-03-24T14:55:44.152015Z",
     "iopub.status.idle": "2024-03-24T14:55:52.107748Z",
     "shell.execute_reply": "2024-03-24T14:55:52.106861Z"
    },
    "executionInfo": {
     "elapsed": 10479,
     "status": "ok",
     "timestamp": 1711212610530,
     "user": {
      "displayName": "ARMIN KHOOJAVI",
      "userId": "16500837687584873985"
     },
     "user_tz": -210
    },
    "id": "cUbNCYwaHQcG",
    "papermill": {
     "duration": 7.963975,
     "end_time": "2024-03-24T14:55:52.110245",
     "exception": false,
     "start_time": "2024-03-24T14:55:44.146270",
     "status": "completed"
    },
    "tags": []
   },
   "outputs": [],
   "source": [
    "import torch\n",
    "import torch.nn as nn\n",
    "from torchvision import datasets\n",
    "from torchvision.transforms import ToTensor\n",
    "from torch.utils.data import DataLoader"
   ]
  },
  {
   "cell_type": "code",
   "execution_count": 2,
   "id": "cd0d4d03",
   "metadata": {
    "execution": {
     "iopub.execute_input": "2024-03-24T14:55:52.119280Z",
     "iopub.status.busy": "2024-03-24T14:55:52.118337Z",
     "iopub.status.idle": "2024-03-24T14:55:57.283420Z",
     "shell.execute_reply": "2024-03-24T14:55:57.282217Z"
    },
    "executionInfo": {
     "elapsed": 6380,
     "status": "ok",
     "timestamp": 1711212616890,
     "user": {
      "displayName": "ARMIN KHOOJAVI",
      "userId": "16500837687584873985"
     },
     "user_tz": -210
    },
    "id": "Yni1MTKyHYpS",
    "outputId": "d5e9082c-829c-408f-c664-3a3e53b8775e",
    "papermill": {
     "duration": 5.172295,
     "end_time": "2024-03-24T14:55:57.286296",
     "exception": false,
     "start_time": "2024-03-24T14:55:52.114001",
     "status": "completed"
    },
    "tags": []
   },
   "outputs": [
    {
     "name": "stdout",
     "output_type": "stream",
     "text": [
      "Downloading http://fashion-mnist.s3-website.eu-central-1.amazonaws.com/train-images-idx3-ubyte.gz\n",
      "Downloading http://fashion-mnist.s3-website.eu-central-1.amazonaws.com/train-images-idx3-ubyte.gz to F_MNIST_data/FashionMNIST/raw/train-images-idx3-ubyte.gz\n"
     ]
    },
    {
     "name": "stderr",
     "output_type": "stream",
     "text": [
      "100%|██████████| 26421880/26421880 [00:01<00:00, 17995245.33it/s]\n"
     ]
    },
    {
     "name": "stdout",
     "output_type": "stream",
     "text": [
      "Extracting F_MNIST_data/FashionMNIST/raw/train-images-idx3-ubyte.gz to F_MNIST_data/FashionMNIST/raw\n",
      "\n",
      "Downloading http://fashion-mnist.s3-website.eu-central-1.amazonaws.com/train-labels-idx1-ubyte.gz\n",
      "Downloading http://fashion-mnist.s3-website.eu-central-1.amazonaws.com/train-labels-idx1-ubyte.gz to F_MNIST_data/FashionMNIST/raw/train-labels-idx1-ubyte.gz\n"
     ]
    },
    {
     "name": "stderr",
     "output_type": "stream",
     "text": [
      "100%|██████████| 29515/29515 [00:00<00:00, 262441.32it/s]\n"
     ]
    },
    {
     "name": "stdout",
     "output_type": "stream",
     "text": [
      "Extracting F_MNIST_data/FashionMNIST/raw/train-labels-idx1-ubyte.gz to F_MNIST_data/FashionMNIST/raw\n",
      "\n",
      "Downloading http://fashion-mnist.s3-website.eu-central-1.amazonaws.com/t10k-images-idx3-ubyte.gz\n",
      "Downloading http://fashion-mnist.s3-website.eu-central-1.amazonaws.com/t10k-images-idx3-ubyte.gz to F_MNIST_data/FashionMNIST/raw/t10k-images-idx3-ubyte.gz\n"
     ]
    },
    {
     "name": "stderr",
     "output_type": "stream",
     "text": [
      "100%|██████████| 4422102/4422102 [00:00<00:00, 4963034.76it/s]\n"
     ]
    },
    {
     "name": "stdout",
     "output_type": "stream",
     "text": [
      "Extracting F_MNIST_data/FashionMNIST/raw/t10k-images-idx3-ubyte.gz to F_MNIST_data/FashionMNIST/raw\n",
      "\n",
      "Downloading http://fashion-mnist.s3-website.eu-central-1.amazonaws.com/t10k-labels-idx1-ubyte.gz\n",
      "Downloading http://fashion-mnist.s3-website.eu-central-1.amazonaws.com/t10k-labels-idx1-ubyte.gz to F_MNIST_data/FashionMNIST/raw/t10k-labels-idx1-ubyte.gz\n"
     ]
    },
    {
     "name": "stderr",
     "output_type": "stream",
     "text": [
      "100%|██████████| 5148/5148 [00:00<00:00, 9863991.32it/s]"
     ]
    },
    {
     "name": "stdout",
     "output_type": "stream",
     "text": [
      "Extracting F_MNIST_data/FashionMNIST/raw/t10k-labels-idx1-ubyte.gz to F_MNIST_data/FashionMNIST/raw\n",
      "\n"
     ]
    },
    {
     "name": "stderr",
     "output_type": "stream",
     "text": [
      "\n"
     ]
    }
   ],
   "source": [
    "trainData = datasets.FashionMNIST(\"F_MNIST_data\", train=True, download=True, transform=ToTensor())\n",
    "\n",
    "trainLoader = DataLoader(dataset=trainData, batch_size = 10, shuffle = True, pin_memory=True)"
   ]
  },
  {
   "cell_type": "code",
   "execution_count": 3,
   "id": "44e6e5fd",
   "metadata": {
    "execution": {
     "iopub.execute_input": "2024-03-24T14:55:57.304511Z",
     "iopub.status.busy": "2024-03-24T14:55:57.303670Z",
     "iopub.status.idle": "2024-03-24T14:55:57.312747Z",
     "shell.execute_reply": "2024-03-24T14:55:57.311805Z"
    },
    "executionInfo": {
     "elapsed": 17,
     "status": "ok",
     "timestamp": 1711212616891,
     "user": {
      "displayName": "ARMIN KHOOJAVI",
      "userId": "16500837687584873985"
     },
     "user_tz": -210
    },
    "id": "LjGZrUAqMsBy",
    "papermill": {
     "duration": 0.020261,
     "end_time": "2024-03-24T14:55:57.314859",
     "exception": false,
     "start_time": "2024-03-24T14:55:57.294598",
     "status": "completed"
    },
    "tags": []
   },
   "outputs": [],
   "source": [
    "class FashionMNIST_Part1(nn.Module):\n",
    "    def __init__(self):\n",
    "        super().__init__()\n",
    "        self.layers = nn.Sequential(\n",
    "            nn.Flatten(),\n",
    "            nn.Linear(28*28, 20000),\n",
    "            nn.ReLU(),\n",
    "            nn.Linear(20000, 10000),\n",
    "            nn.ReLU(),\n",
    "            nn.Linear(10000, 5000),\n",
    "            nn.ReLU(),\n",
    "        )\n",
    "\n",
    "    def forward(self,x):\n",
    "        return self.layers(x)\n",
    "\n",
    "class FashionMNIST_Part2(nn.Module):\n",
    "    def __init__(self):\n",
    "        super().__init__()\n",
    "        self.layers = nn.Sequential(\n",
    "            nn.Linear(5000, 1000),\n",
    "            nn.ReLU(),\n",
    "            nn.Linear(1000, 500),\n",
    "            nn.ReLU(),\n",
    "            nn.Linear(500,10)\n",
    "        )\n",
    "    def forward(self,x):\n",
    "        return self.layers(x)\n"
   ]
  },
  {
   "cell_type": "code",
   "execution_count": 4,
   "id": "d36fd822",
   "metadata": {
    "execution": {
     "iopub.execute_input": "2024-03-24T14:55:57.330573Z",
     "iopub.status.busy": "2024-03-24T14:55:57.330027Z",
     "iopub.status.idle": "2024-03-24T14:55:57.360125Z",
     "shell.execute_reply": "2024-03-24T14:55:57.359212Z"
    },
    "executionInfo": {
     "elapsed": 12,
     "status": "ok",
     "timestamp": 1711212991251,
     "user": {
      "displayName": "ARMIN KHOOJAVI",
      "userId": "16500837687584873985"
     },
     "user_tz": -210
    },
    "id": "9vH1y1JRPgX8",
    "outputId": "f192a01a-cd37-4860-e0c1-66abf043594a",
    "papermill": {
     "duration": 0.040809,
     "end_time": "2024-03-24T14:55:57.362855",
     "exception": false,
     "start_time": "2024-03-24T14:55:57.322046",
     "status": "completed"
    },
    "tags": []
   },
   "outputs": [
    {
     "data": {
      "text/plain": [
       "2"
      ]
     },
     "execution_count": 4,
     "metadata": {},
     "output_type": "execute_result"
    }
   ],
   "source": [
    "torch.cuda.device_count()"
   ]
  },
  {
   "cell_type": "code",
   "execution_count": 5,
   "id": "e2b4cb27",
   "metadata": {
    "execution": {
     "iopub.execute_input": "2024-03-24T14:55:57.378517Z",
     "iopub.status.busy": "2024-03-24T14:55:57.378227Z",
     "iopub.status.idle": "2024-03-24T14:56:00.843265Z",
     "shell.execute_reply": "2024-03-24T14:56:00.842360Z"
    },
    "executionInfo": {
     "elapsed": 471,
     "status": "error",
     "timestamp": 1711212811908,
     "user": {
      "displayName": "ARMIN KHOOJAVI",
      "userId": "16500837687584873985"
     },
     "user_tz": -210
    },
    "id": "RgM-03RfNgn3",
    "outputId": "cfc33d62-22c0-442c-9946-2236c6338ae8",
    "papermill": {
     "duration": 3.476038,
     "end_time": "2024-03-24T14:56:00.845997",
     "exception": false,
     "start_time": "2024-03-24T14:55:57.369959",
     "status": "completed"
    },
    "tags": []
   },
   "outputs": [],
   "source": [
    "device1 = torch.device(\"cuda:0\" if torch.cuda.is_available() else \"cpu\")\n",
    "device2 = torch.device(\"cuda:1\" if torch.cuda.is_available() else \"cpu\")\n",
    "\n",
    "model_part1 = FashionMNIST_Part1().to(device1)\n",
    "model_part2 = FashionMNIST_Part2().to(device2)\n",
    "\n",
    "criterion = nn.CrossEntropyLoss()\n",
    "optimizer = torch.optim.SGD(list(model_part1.parameters())+list(model_part2.parameters()) ,lr=0.01 ,momentum=0.5)"
   ]
  },
  {
   "cell_type": "code",
   "execution_count": 6,
   "id": "dedf3612",
   "metadata": {
    "execution": {
     "iopub.execute_input": "2024-03-24T14:56:00.863682Z",
     "iopub.status.busy": "2024-03-24T14:56:00.863333Z",
     "iopub.status.idle": "2024-03-24T15:47:41.656384Z",
     "shell.execute_reply": "2024-03-24T15:47:41.655270Z"
    },
    "executionInfo": {
     "elapsed": 17,
     "status": "error",
     "timestamp": 1711212776755,
     "user": {
      "displayName": "ARMIN KHOOJAVI",
      "userId": "16500837687584873985"
     },
     "user_tz": -210
    },
    "id": "lYI1pPw9NrrD",
    "outputId": "1c256553-2325-420c-805c-813d00aad49e",
    "papermill": {
     "duration": 3100.812449,
     "end_time": "2024-03-24T15:47:41.666819",
     "exception": false,
     "start_time": "2024-03-24T14:56:00.854370",
     "status": "completed"
    },
    "tags": []
   },
   "outputs": [
    {
     "name": "stdout",
     "output_type": "stream",
     "text": [
      "Epoch [1/10], Loss: 0.6561, Acc: 0.7601\n",
      "Epoch [2/10], Loss: 0.3683, Acc: 0.8662\n",
      "Epoch [3/10], Loss: 0.3142, Acc: 0.8822\n",
      "Epoch [4/10], Loss: 0.2788, Acc: 0.8966\n",
      "Epoch [5/10], Loss: 0.2502, Acc: 0.9063\n",
      "Epoch [6/10], Loss: 0.2276, Acc: 0.9144\n",
      "Epoch [7/10], Loss: 0.2086, Acc: 0.9206\n",
      "Epoch [8/10], Loss: 0.1913, Acc: 0.9285\n",
      "Epoch [9/10], Loss: 0.1749, Acc: 0.9343\n",
      "Epoch [10/10], Loss: 0.1612, Acc: 0.9394\n"
     ]
    }
   ],
   "source": [
    "epochs = 10\n",
    "for epoch in range(epochs):\n",
    "    running_loss = 0.0\n",
    "    running_corrects = 0.0\n",
    "    for inputs, labels in trainLoader:\n",
    "\n",
    "        inputs = inputs.to(device1)\n",
    "        labels = labels.to(device2)\n",
    "\n",
    "        optimizer.zero_grad()\n",
    "\n",
    "        intermediates = model_part1(inputs).to(device2)\n",
    "\n",
    "        outputs = model_part2(intermediates)\n",
    "        loss = criterion(outputs, labels)\n",
    "        loss.backward()\n",
    "        optimizer.step()\n",
    "\n",
    "        _, preds = torch.max(outputs, 1)\n",
    "        running_loss += loss.item() * inputs.size(0)\n",
    "        running_corrects += torch.sum(preds == labels.data)\n",
    "\n",
    "    epoch_loss = running_loss / len(trainLoader.dataset)\n",
    "    epoch_acc = running_corrects.double() / len(trainLoader.dataset)\n",
    "    print('Epoch [{}/{}], Loss: {:.4f}, Acc: {:.4f}'.format(epoch+1, epochs, epoch_loss, epoch_acc))"
   ]
  }
 ],
 "metadata": {
  "accelerator": "GPU",
  "colab": {
   "authorship_tag": "ABX9TyPrKXj9VpPWBO+IZuFuhghN",
   "gpuType": "T4",
   "provenance": []
  },
  "kaggle": {
   "accelerator": "nvidiaTeslaT4",
   "dataSources": [],
   "dockerImageVersionId": 30674,
   "isGpuEnabled": true,
   "isInternetEnabled": true,
   "language": "python",
   "sourceType": "notebook"
  },
  "kernelspec": {
   "display_name": "Python 3",
   "language": "python",
   "name": "python3"
  },
  "language_info": {
   "codemirror_mode": {
    "name": "ipython",
    "version": 3
   },
   "file_extension": ".py",
   "mimetype": "text/x-python",
   "name": "python",
   "nbconvert_exporter": "python",
   "pygments_lexer": "ipython3",
   "version": "3.10.13"
  },
  "papermill": {
   "default_parameters": {},
   "duration": 3122.738264,
   "end_time": "2024-03-24T15:47:43.606393",
   "environment_variables": {},
   "exception": null,
   "input_path": "__notebook__.ipynb",
   "output_path": "__notebook__.ipynb",
   "parameters": {},
   "start_time": "2024-03-24T14:55:40.868129",
   "version": "2.5.0"
  }
 },
 "nbformat": 4,
 "nbformat_minor": 5
}
