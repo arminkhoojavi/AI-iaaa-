{
 "cells": [
  {
   "cell_type": "code",
   "execution_count": 1,
   "id": "5d6ef08c",
   "metadata": {},
   "outputs": [],
   "source": [
    "# https://www.datacamp.com/tutorial/xgboost-in-python"
   ]
  },
  {
   "cell_type": "code",
   "execution_count": null,
   "id": "cc16581d",
   "metadata": {},
   "outputs": [],
   "source": [
    "# !conda install -c conda-forge py-xgboost\n",
    "# # CPU only\n",
    "# !conda install -c conda-forge py-xgboost-cpu\n",
    "# # Use NVIDIA GPU\n",
    "# !conda install -c conda-forge py-xgboost-gpu\n",
    "\n",
    "import xgboost as xgb\n",
    "\n",
    "# Train a model using the scikit-learn API\n",
    "xgb_classifier = xgb.XGBClassifier(n_estimators=100, objective='binary:logistic', tree_method='hist', eta=0.1, max_depth=3, enable_categorical=True)\n",
    "xgb_classifier.fit(x_train, y_train)\n",
    "\n",
    "# Convert the model to a native API model\n",
    "model = xgb_classifier.get_booster()\n",
    "\n",
    "# Create classification matrices\n",
    "dtrain_clf = xgb.DMatrix(x_train, y_train)\n",
    "dtest_clf = xgb.DMatrix(x_test, y_test)\n",
    "\n",
    "params = {\"objective\": \"multi:softprob\", \"tree_method\": \"hist\", \"num_class\": 5}\n",
    "n = 1000\n",
    "\n",
    "results = xgb.cv(\n",
    "   params, dtrain_clf,\n",
    "   num_boost_round=n,\n",
    "   nfold=5,\n",
    "   metrics=[\"mlogloss\", \"merror\"],\n",
    ")\n",
    "\n",
    "results.keys()\n",
    "\n",
    "results['test-merror-std'].max()"
   ]
  }
 ],
 "metadata": {
  "kernelspec": {
   "display_name": "Python 3 (ipykernel)",
   "language": "python",
   "name": "python3"
  },
  "language_info": {
   "codemirror_mode": {
    "name": "ipython",
    "version": 3
   },
   "file_extension": ".py",
   "mimetype": "text/x-python",
   "name": "python",
   "nbconvert_exporter": "python",
   "pygments_lexer": "ipython3",
   "version": "3.9.13"
  }
 },
 "nbformat": 4,
 "nbformat_minor": 5
}
